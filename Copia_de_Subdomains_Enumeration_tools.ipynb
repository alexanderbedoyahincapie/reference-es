{
  "nbformat": 4,
  "nbformat_minor": 0,
  "metadata": {
    "colab": {
      "provenance": [],
      "include_colab_link": true
    },
    "kernelspec": {
      "name": "python3",
      "display_name": "Python 3"
    }
  },
  "cells": [
    {
      "cell_type": "markdown",
      "metadata": {
        "id": "view-in-github",
        "colab_type": "text"
      },
      "source": [
        "<a href=\"https://colab.research.google.com/github/alexanderbedoyahincapie/reference-es/blob/master/Copia_de_Subdomains_Enumeration_tools.ipynb\" target=\"_parent\"><img src=\"https://colab.research.google.com/assets/colab-badge.svg\" alt=\"Open In Colab\"/></a>"
      ]
    },
    {
      "cell_type": "code",
      "metadata": {
        "id": "djaqKWizgXiE",
        "outputId": "f97ff3c7-84db-4d7f-c413-10c4a8cf0bbf",
        "colab": {
          "base_uri": "https://localhost:8080/"
        }
      },
      "source": [
        "# Downloading and configuring all tools (instructions taken from Dockerfile)\n",
        "# Repository: https://github.com/Anon-Exploiter/subdomainsEnumerator\n",
        "\n",
        "!apt-get update -y && \\\n",
        "    apt-get install -y wget python3 python3-pip unzip && \\\n",
        "    export PATH=\"${PATH}:/root/bins/\"\n",
        "\n",
        "!cd && \\\n",
        "    mkdir /root/Sublist3r && cd /root/Sublist3r && \\\n",
        "    wget https://raw.githubusercontent.com/aboul3la/Sublist3r/master/sublist3r.py -O sub.py && \\\n",
        "    cat sub.py | sed 's/from subbrute import subbrute//i' > sublist3r.py && \\\n",
        "    pip3 install argparse dnspython requests idna && \\\n",
        "    rm -rfv requirements.txt && rm -rfv sub.py\n",
        "\n",
        "!cd && \\\n",
        "    mkdir OneForAll && cd OneForAll && \\\n",
        "    wget https://github.com/shmilylty/OneForAll/archive/v0.3.0.tar.gz && \\\n",
        "    tar -xvf v0.3.0.tar.gz && \\\n",
        "    rm -rfv v0.3.0.tar.gz && \\\n",
        "    mv OneForAll-0.3.0/* . && rm -rfv OneForAll-0.3.0 && \\\n",
        "    pip3 install -r /root/OneForAll/requirements.txt\n",
        "\n",
        "!cd && \\\n",
        "    mkdir massdns && cd massdns && \\\n",
        "    wget https://github.com/blechschmidt/massdns/archive/v0.3.tar.gz && \\\n",
        "    tar -xvf v0.3.tar.gz && \\\n",
        "    rm -rfv v0.3.tar.gz && \\\n",
        "    mv massdns-0.3/* . && \\\n",
        "    rm -rfv massdns-0.3 && \\\n",
        "    make\n",
        "\n",
        "!cd && \\\n",
        "    mkdir bins && cd bins && \\\n",
        "    wget https://github.com/projectdiscovery/subfinder/releases/download/2.3.5/subfinder_2.3.5_linux_386.tar.gz && \\\n",
        "    wget https://github.com/tomnomnom/assetfinder/releases/download/v0.1.0/assetfinder-linux-amd64-0.1.0.tgz && \\\n",
        "    wget https://github.com/OWASP/Amass/releases/download/v3.7.2/amass_linux_amd64.zip && \\\n",
        "    wget https://github.com/Edu4rdSHL/findomain/releases/latest/download/findomain-linux\n",
        "\n",
        "!cd && \\\n",
        "    cd bins && \\\n",
        "    tar -xvf subfinder_2.3.5_linux_386.tar.gz && \\\n",
        "    tar -xvf assetfinder-linux-amd64-0.1.0.tgz && \\\n",
        "    unzip amass_linux_amd64.zip && \\\n",
        "    chmod +x findomain-linux\n",
        "\n",
        "!cd && \\\n",
        "    cd bins && \\\n",
        "    rm -rfv LICENSE README.md && \\\n",
        "    rm -rfv *.tgz *.zip *.tar.gz && \\\n",
        "    mv amass_linux_amd64/amass . && \\\n",
        "    rm -rfv amass_linux_amd64\n",
        "\n",
        "!cd && \\\n",
        "    mkdir results && \\\n",
        "    wget https://raw.githubusercontent.com/Anon-Exploiter/subdomainsEnumerator/master/automateSubdEnum.sh -O automateSubdEnum.sh"
      ],
      "execution_count": null,
      "outputs": [
        {
          "output_type": "stream",
          "name": "stdout",
          "text": [
            "Hit:1 http://archive.ubuntu.com/ubuntu jammy InRelease\n",
            "Get:2 http://archive.ubuntu.com/ubuntu jammy-updates InRelease [128 kB]\n",
            "Get:3 http://security.ubuntu.com/ubuntu jammy-security InRelease [129 kB]\n",
            "Get:4 https://developer.download.nvidia.com/compute/cuda/repos/ubuntu2204/x86_64  InRelease [1,581 B]\n",
            "Get:5 http://archive.ubuntu.com/ubuntu jammy-backports InRelease [127 kB]\n",
            "Get:6 https://cloud.r-project.org/bin/linux/ubuntu jammy-cran40/ InRelease [3,632 B]\n",
            "Get:7 https://r2u.stat.illinois.edu/ubuntu jammy InRelease [6,555 B]\n",
            "Hit:8 https://ppa.launchpadcontent.net/deadsnakes/ppa/ubuntu jammy InRelease\n",
            "Hit:9 https://ppa.launchpadcontent.net/graphics-drivers/ppa/ubuntu jammy InRelease\n",
            "Hit:10 https://ppa.launchpadcontent.net/ubuntugis/ppa/ubuntu jammy InRelease\n",
            "Get:11 http://archive.ubuntu.com/ubuntu jammy-updates/universe amd64 Packages [1,543 kB]\n",
            "Get:12 https://developer.download.nvidia.com/compute/cuda/repos/ubuntu2204/x86_64  Packages [1,607 kB]\n",
            "Get:13 http://archive.ubuntu.com/ubuntu jammy-updates/main amd64 Packages [3,154 kB]\n",
            "0% [13 Packages store 0 B]"
          ]
        }
      ]
    },
    {
      "cell_type": "code",
      "metadata": {
        "id": "FgbeQ1J-kHmw"
      },
      "source": [
        "# Running the tools\n",
        "\n",
        "!cd && \\\n",
        "    /bin/bash /root/automateSubdEnum.sh -d google.com -o /tmp/"
      ],
      "execution_count": null,
      "outputs": []
    }
  ]
}